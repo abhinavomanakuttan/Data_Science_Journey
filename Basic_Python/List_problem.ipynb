{
 "cells": [
  {
   "cell_type": "code",
   "execution_count": 6,
   "id": "a5febfd1-f48a-4de3-8d29-42c7ad2339ed",
   "metadata": {},
   "outputs": [
    {
     "name": "stdout",
     "output_type": "stream",
     "text": [
      "[1, 2, 3, 4, 5, 6, 7, 8, 9, 10, 11, 12, 13, 14, 15, 16, 17, 18, 19, 20]\n"
     ]
    }
   ],
   "source": [
    "# Q1 . Create a list of the first 20 positive integers. Print the list.(Assingment1)\n",
    "\n",
    "lst =list(range(1,21))\n",
    "print(lst)"
   ]
  },
  {
   "cell_type": "code",
   "execution_count": 8,
   "id": "798724af-5ccc-4927-a13c-e90e78ec9aa3",
   "metadata": {},
   "outputs": [
    {
     "name": "stdout",
     "output_type": "stream",
     "text": [
      "1\n",
      "10\n",
      "20\n"
     ]
    }
   ],
   "source": [
    "# Q2. Print the first, middle, and last elements of the list created \n",
    "print(lst[0])\n",
    "print(lst[len(lst)//2-1])\n",
    "print(lst[-1])\n"
   ]
  },
  {
   "cell_type": "code",
   "execution_count": 15,
   "id": "6302a9cc-0292-4bea-955c-7d84089da6ff",
   "metadata": {},
   "outputs": [
    {
     "name": "stdout",
     "output_type": "stream",
     "text": [
      "[1, 2, 3, 4, 5]\n",
      "[16, 17, 18, 19, 20]\n",
      "[6, 7, 8, 9, 10, 11, 12, 13, 14, 15]\n"
     ]
    }
   ],
   "source": [
    "# Q3. Print the first five elements, the last five elements, and the elements from index 5 to 15 of the list created \n",
    "\n",
    "print(lst[0:5])\n",
    "print(lst[-5:])\n",
    "print(lst[5:15])\n",
    "\n",
    "'''\n",
    "# Get last five elements in reverse order\n",
    "last_five_reversed = lst[-1:-6:-1]\n",
    "'''\n"
   ]
  },
  {
   "cell_type": "code",
   "execution_count": 23,
   "id": "b102ae9e-5587-4713-a611-cdbcd12bc7fd",
   "metadata": {},
   "outputs": [
    {
     "name": "stdout",
     "output_type": "stream",
     "text": [
      "[1, 4, 9, 16, 25, 36, 49, 64, 81, 100]\n"
     ]
    }
   ],
   "source": [
    "# Q4.  Create a new list containing the squares of the first 10 positive integers using a list comprehension. Print the new list.\n",
    "\n",
    "new_lst =[num**2 for num in range(1,11)]\n",
    "print(new_lst)"
   ]
  },
  {
   "cell_type": "code",
   "execution_count": 25,
   "id": "0023199d-7595-4ba4-8d1d-d7e23dc592c2",
   "metadata": {},
   "outputs": [
    {
     "name": "stdout",
     "output_type": "stream",
     "text": [
      "Even list  [2, 4, 6, 8, 10, 12, 14, 16, 18, 20]\n"
     ]
    }
   ],
   "source": [
    "# Q5. Create a new list containing only the even numbers from the list created in Assignment 1 using a list comprehension. Print the new list.\n",
    "\n",
    "even_lst=[num for num in lst if num%2==0]\n",
    "print(\"Even list \",even_lst)\n"
   ]
  },
  {
   "cell_type": "code",
   "execution_count": 28,
   "id": "18590ecd-3268-4204-ad42-74803ba4e358",
   "metadata": {},
   "outputs": [
    {
     "name": "stdout",
     "output_type": "stream",
     "text": [
      "Original list: [19, 34, 37, 34, 34]\n",
      "Sorted in ascending order: [19, 34, 34, 34, 37]\n",
      "Sorted in descending order: [37, 34, 34, 34, 19]\n",
      "List after removing duplicates: [34, 19, 37]\n"
     ]
    }
   ],
   "source": [
    "# Q6 .Create a list of random numbers and sort it in ascending and descending order. Remove the duplicates from the list and print the modified list.\n",
    "\n",
    "import random\n",
    "\n",
    "# Step 1: Create a list of 15 random numbers between 1 and 50\n",
    "random_numbers = [random.randint(1, 50) for _ in range(5)]\n",
    "print(\"Original list:\", random_numbers)\n",
    "\n",
    "# Step 2: Sort in ascending order\n",
    "ascending = sorted(random_numbers)\n",
    "print(\"Sorted in ascending order:\", ascending)\n",
    "\n",
    "# Step 3: Sort in descending order\n",
    "descending = sorted(random_numbers, reverse=True)\n",
    "print(\"Sorted in descending order:\", descending)\n",
    "\n",
    "# Step 4: Remove duplicates\n",
    "no_duplicates = list(set(random_numbers))\n",
    "print(\"List after removing duplicates:\", no_duplicates)\n"
   ]
  },
  {
   "cell_type": "code",
   "execution_count": 29,
   "id": "68c2d75b-0482-4b33-91b4-76da13e58436",
   "metadata": {},
   "outputs": [
    {
     "name": "stdout",
     "output_type": "stream",
     "text": [
      "3x3 Matrix:\n",
      "[1, 2, 3]\n",
      "[4, 5, 6]\n",
      "[7, 8, 9]\n",
      "\n",
      "Element at second row, third column: 6\n"
     ]
    }
   ],
   "source": [
    "# Q7. Create a nested list representing a 3x3 matrix and print the matrix. Access and print the element at the second row and third column.\n",
    "\n",
    "matrix = [\n",
    "    [1, 2, 3],      \n",
    "    [4, 5, 6],      \n",
    "    [7, 8, 9]       \n",
    "]\n",
    "\n",
    "print(\"3x3 Matrix:\")\n",
    "for row in matrix:\n",
    "    print(row)\n",
    "\n",
    "# Step 3: Access and print the element at the second row, third column\n",
    "# Indexing is zero-based, so use [1][2]\n",
    "element = matrix[1][2]\n",
    "print(\"\\nElement at second row, third column:\", element)\n",
    "\n"
   ]
  },
  {
   "cell_type": "code",
   "execution_count": 35,
   "id": "2c466690-d5b9-492c-a9c7-a1ecb1d5b2d1",
   "metadata": {},
   "outputs": [
    {
     "name": "stdout",
     "output_type": "stream",
     "text": [
      "Students sorted by score (descending):\n",
      "{'name': 'Bob', 'score': 92}\n",
      "{'name': 'Eva', 'score': 91}\n",
      "{'name': 'David', 'score': 88}\n",
      "{'name': 'Alice', 'score': 85}\n",
      "{'name': 'Charlie', 'score': 78}\n"
     ]
    }
   ],
   "source": [
    "#Q8. Create a list of dictionaries where each dictionary represents a student with keys 'name' and 'score'.\n",
    "#     Sort the list of dictionaries by the 'score' in descending order and print the sorted list.\n",
    "from operator import itemgetter\n",
    "\n",
    "students = [\n",
    "    {'name': 'Alice', 'score': 85},\n",
    "    {'name': 'Bob', 'score': 92},\n",
    "    {'name': 'Charlie', 'score': 78},\n",
    "    {'name': 'David', 'score': 88},\n",
    "    {'name': 'Eva', 'score': 91}\n",
    "]\n",
    "\n",
    "#  Sort the list by 'score' in descending order\n",
    "sorted_students = sorted(students, key=itemgetter('score'), reverse=True)\n",
    "\n",
    "\n",
    "print(\"Students sorted by score (descending):\")\n",
    "for student in sorted_students:\n",
    "    print(student)\n",
    "    \n",
    "\n"
   ]
  },
  {
   "cell_type": "code",
   "execution_count": 39,
   "id": "623d2fa2-817c-4d15-8929-10c91ba10274",
   "metadata": {},
   "outputs": [
    {
     "name": "stdout",
     "output_type": "stream",
     "text": [
      "Original Matrix:\n",
      "[1, 2, 3]\n",
      "[4, 5, 6]\n",
      "[7, 8, 9]\n",
      "Transposed Matrix:\n",
      "[1, 2, 3]\n",
      "[4, 5, 6]\n",
      "[7, 8, 9]\n"
     ]
    }
   ],
   "source": [
    "# Q9. Write a function that takes a 3x3 matrix (nested list) as input and returns its transpose. Print the original and transposed matrices.\n",
    "\n",
    "\n",
    "def transpose_matrix(matrix):\n",
    "\n",
    "    return [[matrix[i][j] for j in range(3) ] for i in range(3) ]\n",
    "\n",
    "original_matrix = [\n",
    "    [1,2,3],\n",
    "    [4,5,6],\n",
    "    [7,8,9]\n",
    "]\n",
    "transposed_matrix = transpose_matrix(original_matrix)\n",
    "print(\"Original Matrix:\")\n",
    "for row in original_matrix:\n",
    "    print(row)\n",
    "\n",
    "print(\"Transposed Matrix:\")\n",
    "for row in transposed_matrix:\n",
    "    print(row)\n",
    "\n"
   ]
  },
  {
   "cell_type": "code",
   "execution_count": 40,
   "id": "03ab17c7-ca58-4a0a-8c73-79751e4e14a3",
   "metadata": {},
   "outputs": [
    {
     "name": "stdout",
     "output_type": "stream",
     "text": [
      "Original nested list:\n",
      "[[1, 2, 3], [4, 5, 6], [7, 8, 9]]\n",
      "Flattened list:\n",
      "[1, 2, 3, 4, 5, 6, 7, 8, 9]\n"
     ]
    }
   ],
   "source": [
    "# Q10. Write a function that takes a nested list and flattens it into a single list. \n",
    "#       Print the original and flattened lists.\n",
    "\n",
    "## Note: flattened lists means convert it into a single list that contains all the elements:\n",
    "\n",
    "def flatten_list(nested_list):\n",
    "    flat_list = []                    # Empty list \n",
    "    for sublist in nested_list:       # first ->  convert the biglist into small sublist like [1, 2, 3] ..\n",
    "        for item in sublist:          # seocnd -> then convert the sublist to items of each \n",
    "            flat_list.append(item)    # third ->  append each element to the list \n",
    "    return flat_list\n",
    "\n",
    "# Example nested list (3x3 matrix)\n",
    "nested_list = [\n",
    "    [1, 2, 3],\n",
    "    [4, 5, 6],\n",
    "    [7, 8, 9]\n",
    "]\n",
    "\n",
    "# Flatten the list\n",
    "flattened = flatten_list(nested_list)\n",
    "\n",
    "\n",
    "print(\"Original nested list:\")\n",
    "print(nested_list)\n",
    "\n",
    "print(\"Flattened list:\")\n",
    "print(flattened)\n",
    "\n",
    "\n"
   ]
  },
  {
   "cell_type": "code",
   "execution_count": 53,
   "id": "d593b2ec-3bfe-4fd5-927f-2d3819c9da88",
   "metadata": {},
   "outputs": [
    {
     "name": "stdout",
     "output_type": "stream",
     "text": [
      "Orginal list  :\t [1, 2, 3, 4, 5, 6, 7, 8, 9, 10]\n",
      "modified list :  [1, 2, 4, 6, 8, 99, 9, 10]\n"
     ]
    }
   ],
   "source": [
    "# Q 11 . Create a list of the first 10 positive integers. Remove the elements at indices 2, 4, and 6, and insert the element '99' at index 5. Print the modified list.\n",
    "\n",
    "\n",
    "lst =[num for num in range(1,11)] \n",
    "\n",
    "print(\"Orginal list  :\\t\",lst)\n",
    "\n",
    "del lst[6]\n",
    "del lst[4]\n",
    "del lst[2]\n",
    "\n",
    "lst.insert(5,99)\n",
    "print(\"modified list : \",lst)\n",
    "\n"
   ]
  },
  {
   "cell_type": "code",
   "execution_count": 54,
   "id": "29bdc68d-b43f-411e-a012-52d89920bda5",
   "metadata": {},
   "outputs": [
    {
     "name": "stdout",
     "output_type": "stream",
     "text": [
      "Combined list of tuples:\n",
      "[('Ghost', 85), ('Tomy', 92), ('Shelby', 78)]\n"
     ]
    }
   ],
   "source": [
    "# Q12. Create two lists of the same length. Use the `zip` function to combine these lists into a list of tuples and print the result.\n",
    "\n",
    "\n",
    "names = ['Ghost', 'Tomy', 'Shelby']\n",
    "scores = [85, 92, 78]\n",
    "\n",
    "# Use zip to combine them into a list of tuples\n",
    "combined = list(zip(names, scores))\n",
    "\n",
    "# Print the result\n",
    "print(\"Combined list of tuples:\")\n",
    "print(combined)\n"
   ]
  },
  {
   "cell_type": "code",
   "execution_count": 60,
   "id": "ea2bd316-c3a6-49f0-b6bc-c5f6d528a119",
   "metadata": {},
   "outputs": [
    {
     "name": "stdout",
     "output_type": "stream",
     "text": [
      "Original list [1, 2, 3, 4, 5]\n",
      "Reversed list: [5, 4, 3, 2, 1]\n"
     ]
    }
   ],
   "source": [
    "# Q13 Write a function that takes a list and returns a new list with the elements in reverse order. Print the original and reversed lists.\n",
    "\n",
    "def reverse_lst(original_lst):\n",
    "\n",
    "    return original_lst[::-1]\n",
    "\n",
    "original_lst =[1,2,3,4,5]\n",
    "print(\"Original list\",original_lst)\n",
    "\n",
    "print(\"Reversed list:\",reverse_lst(original_lst))\n"
   ]
  },
  {
   "cell_type": "code",
   "execution_count": 62,
   "id": "b82747b9-bc65-49cb-a9eb-fd688307f89d",
   "metadata": {},
   "outputs": [
    {
     "name": "stdout",
     "output_type": "stream",
     "text": [
      "Original list:\n",
      "[1, 2, 3, 4, 5, 6]\n",
      "List after rotating left by 2 positions:\n",
      "[3, 4, 5, 1, 2]\n"
     ]
    }
   ],
   "source": [
    "# Q14. Write a function that rotates a list by n positions. Print the original and rotated lists.\n",
    "\n",
    "def rotate_list(original_lst,n):\n",
    "    n= n%len(original_lst) # handle cases where n > length of list\n",
    "    return orignial_lst[n:] +original_lst[:n]\n",
    "\n",
    "my_list = [1, 2, 3, 4, 5, 6]\n",
    "\n",
    "rotated = rotate_list(my_list, 2)\n",
    "\n",
    "# Print results\n",
    "print(\"Original list:\")\n",
    "print(my_list)\n",
    "print(\"List after rotating left by 2 positions:\")\n",
    "print(rotated)"
   ]
  },
  {
   "cell_type": "code",
   "execution_count": 63,
   "id": "ac3baa2f-d3c0-4411-9d97-f9947e4435aa",
   "metadata": {},
   "outputs": [
    {
     "name": "stdout",
     "output_type": "stream",
     "text": [
      "List A: [1, 2, 3, 4, 5]\n",
      "List B: [4, 5, 6, 7, 8]\n",
      "Intersection: [4, 5]\n"
     ]
    }
   ],
   "source": [
    "# Q15 .Write a function that takes two lists and returns a new list containing only the elements that are present in both lists. Print the intersected list.\n",
    "\n",
    "def intersect_lists(list1, list2):\n",
    "    # Create a new list with elements that are in both list1 and list2\n",
    "    result = []\n",
    "    for item in list1: \n",
    "        if item in list2 and item not in result: \n",
    "            result.append(item)\n",
    "    return result\n",
    "\n",
    "# Example lists\n",
    "list_a = [1, 2, 3, 4, 5]\n",
    "list_b = [4, 5, 6, 7, 8]\n",
    "\n",
    "# Find the intersection\n",
    "intersected = intersect_lists(list_a, list_b)\n",
    "\n",
    "# Print the result\n",
    "print(\"List A:\", list_a)\n",
    "print(\"List B:\", list_b)\n",
    "print(\"Intersection:\", intersected)\n"
   ]
  },
  {
   "cell_type": "code",
   "execution_count": null,
   "id": "e7781d62-5d3c-4827-8904-806be0e2acf1",
   "metadata": {},
   "outputs": [],
   "source": []
  }
 ],
 "metadata": {
  "kernelspec": {
   "display_name": "Python 3 (ipykernel)",
   "language": "python",
   "name": "python3"
  },
  "language_info": {
   "codemirror_mode": {
    "name": "ipython",
    "version": 3
   },
   "file_extension": ".py",
   "mimetype": "text/x-python",
   "name": "python",
   "nbconvert_exporter": "python",
   "pygments_lexer": "ipython3",
   "version": "3.12.4"
  }
 },
 "nbformat": 4,
 "nbformat_minor": 5
}
