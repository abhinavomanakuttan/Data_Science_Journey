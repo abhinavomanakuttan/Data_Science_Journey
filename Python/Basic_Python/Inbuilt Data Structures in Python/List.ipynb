{
 "cells": [
  {
   "cell_type": "markdown",
   "id": "b09c7ebc-02d3-4207-9150-a67b136cb569",
   "metadata": {},
   "source": [
    "# List "
   ]
  },
  {
   "cell_type": "code",
   "execution_count": 33,
   "id": "48dba859-0cd7-4417-aeb9-31b6bf961783",
   "metadata": {},
   "outputs": [
    {
     "name": "stdout",
     "output_type": "stream",
     "text": [
      "['apple', 'banana', 'Cherry', 'Orange']\n"
     ]
    }
   ],
   "source": [
    "fruits =[\"apple\",\"banana\",\"Cherry\",\"Orange\"]\n",
    "print(fruits)"
   ]
  },
  {
   "cell_type": "code",
   "execution_count": 34,
   "id": "5e2d7970-9c9d-4679-96f1-4cd6a0f4681c",
   "metadata": {},
   "outputs": [
    {
     "name": "stdout",
     "output_type": "stream",
     "text": [
      "apple\n",
      "banana\n",
      "Cherry\n",
      "Orange\n"
     ]
    }
   ],
   "source": [
    "print(fruits[0])\n",
    "print(fruits[1])\n",
    "print(fruits[2])\n",
    "print(fruits[3])\n"
   ]
  },
  {
   "cell_type": "code",
   "execution_count": 35,
   "id": "264938ba-4390-4cfc-b918-0d97e612af8f",
   "metadata": {},
   "outputs": [
    {
     "name": "stdout",
     "output_type": "stream",
     "text": [
      "Orange\n",
      "['banana', 'Cherry', 'Orange']\n",
      "['banana', 'Cherry']\n"
     ]
    }
   ],
   "source": [
    "print(fruits[-1]) # to get the last element of the lsit \n",
    "print(fruits[1:]) # from index 1 element to the last \n",
    "print(fruits[1:3]) # from the index 1 to index 3-1 \n",
    "\n"
   ]
  },
  {
   "cell_type": "code",
   "execution_count": 36,
   "id": "a0ce3b2d-995a-49ed-95a1-f53578c95f25",
   "metadata": {},
   "outputs": [
    {
     "name": "stdout",
     "output_type": "stream",
     "text": [
      "['Watermelon', 'banana', 'Cherry', 'Orange']\n"
     ]
    }
   ],
   "source": [
    "# Modifing the list elements \n",
    "fruits[0] = \"Watermelon\"\n",
    "print(fruits)"
   ]
  },
  {
   "cell_type": "code",
   "execution_count": 37,
   "id": "321b6873-2aeb-4588-a071-48bae2323f17",
   "metadata": {},
   "outputs": [
    {
     "name": "stdout",
     "output_type": "stream",
     "text": [
      "['Watermelon', 'banana', 'Cherry', 'Orange', 'Apple']\n"
     ]
    }
   ],
   "source": [
    "# list Method \n",
    "fruits.append(\"Apple\")\n",
    "print(fruits)\n"
   ]
  },
  {
   "cell_type": "code",
   "execution_count": 38,
   "id": "42f26d14-0b5d-41ce-a3c4-6a7f90b4835f",
   "metadata": {},
   "outputs": [
    {
     "name": "stdout",
     "output_type": "stream",
     "text": [
      "['Watermelon', 'mango', 'banana', 'Cherry', 'Orange', 'Apple']\n"
     ]
    }
   ],
   "source": [
    "# Insert \n",
    "fruits.insert(1,\"mango\")\n",
    "print(fruits)\n"
   ]
  },
  {
   "cell_type": "code",
   "execution_count": 39,
   "id": "e5c33b03-379a-4ce4-8daf-5a4936e385d1",
   "metadata": {},
   "outputs": [
    {
     "name": "stdout",
     "output_type": "stream",
     "text": [
      "['Watermelon', 'mango', 'Cherry', 'Orange', 'Apple']\n"
     ]
    }
   ],
   "source": [
    "# Remove \n",
    "fruits.remove(\"banana\")\n",
    "print(fruits)"
   ]
  },
  {
   "cell_type": "code",
   "execution_count": 40,
   "id": "5381992e-c899-46c0-bd59-bb4d87a193d9",
   "metadata": {},
   "outputs": [
    {
     "name": "stdout",
     "output_type": "stream",
     "text": [
      "Apple\n"
     ]
    }
   ],
   "source": [
    "# remmove and return the last element \n",
    "r=fruits.pop()\n",
    "print(r)"
   ]
  },
  {
   "cell_type": "code",
   "execution_count": 41,
   "id": "73e7e05f-5764-4264-b137-4876f040d415",
   "metadata": {},
   "outputs": [
    {
     "name": "stdout",
     "output_type": "stream",
     "text": [
      "2\n"
     ]
    }
   ],
   "source": [
    "#Index \n",
    "\n",
    "ind=fruits.index(\"Cherry\")\n",
    "print(ind)"
   ]
  },
  {
   "cell_type": "code",
   "execution_count": 44,
   "id": "3c34f1bd-9a97-4eb6-9b46-210bd4770a23",
   "metadata": {},
   "outputs": [
    {
     "name": "stdout",
     "output_type": "stream",
     "text": [
      "2\n",
      "2\n"
     ]
    }
   ],
   "source": [
    "fruits.insert(2,\"banana\")\n",
    "print(fruits.count(\"banana\"))\n",
    "\n",
    "fruits.insert(2,\"mango\")\n",
    "print(fruits.count(\"mango\"))"
   ]
  },
  {
   "cell_type": "code",
   "execution_count": 46,
   "id": "6fb40e34-8504-452f-a192-18b583963664",
   "metadata": {},
   "outputs": [
    {
     "name": "stdout",
     "output_type": "stream",
     "text": [
      "['Cherry', 'Orange', 'Watermelon', 'banana', 'banana', 'mango', 'mango']\n"
     ]
    }
   ],
   "source": [
    "fruits.sort()\n",
    "print(fruits)"
   ]
  },
  {
   "cell_type": "code",
   "execution_count": 47,
   "id": "27b2dc55-5d3e-4b70-8489-438add444b71",
   "metadata": {},
   "outputs": [
    {
     "name": "stdout",
     "output_type": "stream",
     "text": [
      "['mango', 'mango', 'banana', 'banana', 'Watermelon', 'Orange', 'Cherry']\n"
     ]
    }
   ],
   "source": [
    "# Reverse\n",
    "fruits.reverse()\n",
    "print(fruits)"
   ]
  },
  {
   "cell_type": "code",
   "execution_count": 48,
   "id": "722af5ef-f63e-4ccc-9804-ac10d872d349",
   "metadata": {},
   "outputs": [
    {
     "name": "stdout",
     "output_type": "stream",
     "text": [
      "[]\n"
     ]
    }
   ],
   "source": [
    "# clear -> removelall the items from the list \n",
    "fruits.clear()\n",
    "print(fruits)\n"
   ]
  },
  {
   "cell_type": "markdown",
   "id": "b59f51b2-2fc6-4c5f-a357-30f234116895",
   "metadata": {},
   "source": [
    "# Slicing list"
   ]
  },
  {
   "cell_type": "code",
   "execution_count": 53,
   "id": "e8253e3b-8420-4725-a47f-88c0747bf8b2",
   "metadata": {},
   "outputs": [
    {
     "name": "stdout",
     "output_type": "stream",
     "text": [
      "[1, 2, 3, 4, 5, 6, 7, 8, 9, 10]\n",
      "[3, 4, 5]\n",
      "[1, 2, 3, 4, 5]\n",
      "[6, 7, 8, 9, 10]\n",
      "[1, 3, 5, 7, 9]\n",
      "[10, 9, 8, 7, 6, 5, 4, 3, 2, 1]\n"
     ]
    }
   ],
   "source": [
    "numbers = [1,2,3,4,5,6,7,8,9,10]\n",
    "print(numbers[::]) # it will print all the elements \n",
    "print(numbers[2:5])\n",
    "print(numbers[:5])\n",
    "print(numbers[5:])\n",
    "print(numbers[::2])\n",
    "print(numbers[::-1])\n"
   ]
  },
  {
   "cell_type": "markdown",
   "id": "f7c3ec4f-d17d-4b1a-a307-d0faacb8e0ad",
   "metadata": {},
   "source": [
    "# Itersting over list "
   ]
  },
  {
   "cell_type": "code",
   "execution_count": 55,
   "id": "b17465f7-9f15-4624-b285-d871ff69a3d4",
   "metadata": {},
   "outputs": [
    {
     "name": "stdout",
     "output_type": "stream",
     "text": [
      "1\n",
      "2\n",
      "3\n",
      "4\n",
      "5\n",
      "6\n",
      "7\n",
      "8\n",
      "9\n",
      "10\n"
     ]
    }
   ],
   "source": [
    "for num in numbers:\n",
    "    print(num)"
   ]
  },
  {
   "cell_type": "code",
   "execution_count": 59,
   "id": "b25799a1-f079-4dda-aeb3-68eb50c5c9c7",
   "metadata": {},
   "outputs": [
    {
     "name": "stdout",
     "output_type": "stream",
     "text": [
      "Index 0 , NO: 1\n",
      "Index 1 , NO: 2\n",
      "Index 2 , NO: 3\n",
      "Index 3 , NO: 4\n",
      "Index 4 , NO: 5\n",
      "Index 5 , NO: 6\n",
      "Index 6 , NO: 7\n",
      "Index 7 , NO: 8\n",
      "Index 8 , NO: 9\n",
      "Index 9 , NO: 10\n"
     ]
    }
   ],
   "source": [
    "# Iterating with index\n",
    "for index ,number in enumerate (numbers):\n",
    "    print(f\"Index {index} , NO: {number}\")"
   ]
  },
  {
   "cell_type": "markdown",
   "id": "edffd93f-5dfa-4922-96aa-3f908469b7a9",
   "metadata": {},
   "source": [
    "# List Comprehension "
   ]
  },
  {
   "cell_type": "code",
   "execution_count": 60,
   "id": "6693ea37-7db0-4f40-95cc-679b47791028",
   "metadata": {},
   "outputs": [
    {
     "name": "stdout",
     "output_type": "stream",
     "text": [
      "[0, 1, 4, 9, 16, 25, 36, 49, 64, 81]\n"
     ]
    }
   ],
   "source": [
    "lst=[]\n",
    "for x in range(10):\n",
    "    lst.append(x**2)\n",
    "\n",
    "print(lst)"
   ]
  },
  {
   "cell_type": "code",
   "execution_count": 2,
   "id": "7c6274ae-a723-4201-b48f-1cdcb1984d43",
   "metadata": {},
   "outputs": [
    {
     "data": {
      "text/plain": [
       "[0, 1, 4, 9, 16, 25, 36, 49, 64, 81]"
      ]
     },
     "execution_count": 2,
     "metadata": {},
     "output_type": "execute_result"
    }
   ],
   "source": [
    "[x**2  for x in range(10)]"
   ]
  },
  {
   "cell_type": "markdown",
   "id": "d586b2db-36f7-4a09-af80-7273d3f4e934",
   "metadata": {},
   "source": [
    "<h2> List  Comprehension </h2> \n",
    "\n",
    "Basci Syntax  [expression for item in iterable]  \n",
    "<br>\n",
    "with conditional logic [expression for item in iterable of condition ]   \n",
    "<br>\n",
    "\n",
    "Nested list Comprehension [expression for item1 in iterable for items2 in iterable2]\n"
   ]
  },
  {
   "cell_type": "code",
   "execution_count": 62,
   "id": "24e2cf8d-1bf7-41dc-be6d-009defa5e614",
   "metadata": {},
   "outputs": [
    {
     "name": "stdout",
     "output_type": "stream",
     "text": [
      "[1, 4, 9, 16, 25, 36, 49, 64, 81, 100]\n"
     ]
    }
   ],
   "source": [
    "# basic list comperhension \n",
    "\n",
    "square =[num**2 for num in numbers]\n",
    "print(square)"
   ]
  },
  {
   "cell_type": "code",
   "execution_count": 63,
   "id": "565a95c7-a5e9-4101-981e-47d611ec44fc",
   "metadata": {},
   "outputs": [
    {
     "name": "stdout",
     "output_type": "stream",
     "text": [
      "[0, 2, 4, 6, 8]\n"
     ]
    }
   ],
   "source": [
    "## list comperhension with condition \n",
    "\n",
    "lst =[]\n",
    "for i in range (10):\n",
    "    if i%2==0:\n",
    "        lst.append(i)\n",
    "print(lst)     "
   ]
  },
  {
   "cell_type": "code",
   "execution_count": 66,
   "id": "b9ad4789-672f-4256-b106-4ce033e0447a",
   "metadata": {},
   "outputs": [
    {
     "name": "stdout",
     "output_type": "stream",
     "text": [
      "[0, 2, 4, 6, 8]\n"
     ]
    }
   ],
   "source": [
    "even_lst = [num for num in range(10) if num%2==0 ]\n",
    "print(even_lst)"
   ]
  },
  {
   "cell_type": "code",
   "execution_count": 69,
   "id": "cfae12a4-6393-40fa-b519-0eaf916bce5f",
   "metadata": {},
   "outputs": [
    {
     "name": "stdout",
     "output_type": "stream",
     "text": [
      "[[1, 'a'], [1, 'b'], [1, 'c'], [1, 'd'], [2, 'a'], [2, 'b'], [2, 'c'], [2, 'd'], [3, 'a'], [3, 'b'], [3, 'c'], [3, 'd'], [4, 'a'], [4, 'b'], [4, 'c'], [4, 'd']]\n"
     ]
    }
   ],
   "source": [
    "## Nested list comprehension\n",
    "lst1=[1,2,3,4]\n",
    "lst2=['a','b','c','d']\n",
    "\n",
    "pair =[[i,j] for i in lst1 for j in lst2]\n",
    "print(pair)"
   ]
  },
  {
   "cell_type": "markdown",
   "id": "5b26cc6f-fb11-4799-9101-e1f5facc5967",
   "metadata": {},
   "source": [
    "## List Comperhension with function calls"
   ]
  },
  {
   "cell_type": "code",
   "execution_count": 73,
   "id": "ac70f602-428c-4da2-a934-b8a4b9217653",
   "metadata": {},
   "outputs": [
    {
     "name": "stdout",
     "output_type": "stream",
     "text": [
      "[5, 5, 6, 4, 13]\n"
     ]
    }
   ],
   "source": [
    "words = ['hello','world','python','list','comprehension']\n",
    "lenght=[len(word) for word in words]\n",
    "print(lenght)"
   ]
  },
  {
   "cell_type": "code",
   "execution_count": null,
   "id": "74675e07-afb2-4772-8408-bb724bdb9171",
   "metadata": {},
   "outputs": [],
   "source": []
  }
 ],
 "metadata": {
  "kernelspec": {
   "display_name": "Python 3 (ipykernel)",
   "language": "python",
   "name": "python3"
  },
  "language_info": {
   "codemirror_mode": {
    "name": "ipython",
    "version": 3
   },
   "file_extension": ".py",
   "mimetype": "text/x-python",
   "name": "python",
   "nbconvert_exporter": "python",
   "pygments_lexer": "ipython3",
   "version": "3.12.4"
  }
 },
 "nbformat": 4,
 "nbformat_minor": 5
}
