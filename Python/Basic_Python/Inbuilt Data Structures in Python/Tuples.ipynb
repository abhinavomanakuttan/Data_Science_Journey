{
 "cells": [
  {
   "cell_type": "markdown",
   "id": "06823a99-86da-4d3f-b9a0-5f19c73280b8",
   "metadata": {},
   "source": [
    "# Tuples"
   ]
  },
  {
   "cell_type": "code",
   "execution_count": 1,
   "id": "9458eee5-697a-4a84-93c7-a09a04b829b7",
   "metadata": {},
   "outputs": [
    {
     "name": "stdout",
     "output_type": "stream",
     "text": [
      "()\n",
      "<class 'tuple'>\n"
     ]
    }
   ],
   "source": [
    "# creating a tuple \n",
    "empty_tuple =()\n",
    "print(empty_tuple)\n",
    "print(type(empty_tuple))\n"
   ]
  },
  {
   "cell_type": "code",
   "execution_count": 4,
   "id": "f1733ab0-3be7-4f4f-b79f-a31d57539bab",
   "metadata": {},
   "outputs": [
    {
     "name": "stdout",
     "output_type": "stream",
     "text": [
      "<class 'list'>\n",
      "<class 'tuple'>\n"
     ]
    }
   ],
   "source": [
    "lst=list()\n",
    "print(type(lst))\n",
    "tup= tuple()\n",
    "print(type(tup))"
   ]
  },
  {
   "cell_type": "code",
   "execution_count": 5,
   "id": "9f961f65-e2be-4835-9772-2db3b36ced04",
   "metadata": {},
   "outputs": [
    {
     "name": "stdout",
     "output_type": "stream",
     "text": [
      "(1, 2, 3, 4)\n"
     ]
    }
   ],
   "source": [
    "numbers =tuple([1,2,3,4])\n",
    "print(numbers)\n"
   ]
  },
  {
   "cell_type": "code",
   "execution_count": 7,
   "id": "0dede31b-9a74-420a-97a9-693212854a19",
   "metadata": {},
   "outputs": [
    {
     "name": "stdout",
     "output_type": "stream",
     "text": [
      "(1, 'hello World ', 3.14, True)\n"
     ]
    }
   ],
   "source": [
    "mixed_tup= (1,\"hello World \",3.14,True)\n",
    "print(mixed_tup)"
   ]
  },
  {
   "cell_type": "markdown",
   "id": "ab3d350a-aa0c-48a7-bf33-e89ab4544042",
   "metadata": {},
   "source": [
    "# Tuple Operations"
   ]
  },
  {
   "cell_type": "code",
   "execution_count": 9,
   "id": "cbecd7a4-1d9f-49ff-a51e-ce8a9efdc1d2",
   "metadata": {},
   "outputs": [
    {
     "name": "stdout",
     "output_type": "stream",
     "text": [
      "(1, 2, 3, 4, 1, 'hello World ', 3.14, True)\n"
     ]
    }
   ],
   "source": [
    "concatenation_tuple= numbers+mixed_tup\n",
    "print(concatenation_tuple)"
   ]
  },
  {
   "cell_type": "code",
   "execution_count": 12,
   "id": "c7e845e8-2f07-45dd-be1d-1ca7882b4fa5",
   "metadata": {},
   "outputs": [
    {
     "name": "stdout",
     "output_type": "stream",
     "text": [
      "(1, 'hello World ', 3.14, True, 1, 'hello World ', 3.14, True, 1, 'hello World ', 3.14, True) \n",
      "\n"
     ]
    }
   ],
   "source": [
    "print(mixed_tup* 3)\n"
   ]
  },
  {
   "cell_type": "markdown",
   "id": "f753db2f-c10e-4140-b053-ba491c29d889",
   "metadata": {},
   "source": [
    "## * Immutable Nature of tuple \n",
    "## *Tuples are immutable ,meaning their elements cannot be changed once assingned \n",
    "\n"
   ]
  },
  {
   "cell_type": "code",
   "execution_count": 15,
   "id": "b565a891-9665-44ac-974c-251241432f71",
   "metadata": {},
   "outputs": [
    {
     "name": "stdout",
     "output_type": "stream",
     "text": [
      "2\n"
     ]
    },
    {
     "ename": "TypeError",
     "evalue": "'tuple' object does not support item assignment",
     "output_type": "error",
     "traceback": [
      "\u001b[1;31m---------------------------------------------------------------------------\u001b[0m",
      "\u001b[1;31mTypeError\u001b[0m                                 Traceback (most recent call last)",
      "Cell \u001b[1;32mIn[15], line 3\u001b[0m\n\u001b[0;32m      1\u001b[0m \u001b[38;5;28mprint\u001b[39m(numbers[\u001b[38;5;241m1\u001b[39m])\n\u001b[1;32m----> 3\u001b[0m \u001b[43mnumbers\u001b[49m\u001b[43m[\u001b[49m\u001b[38;5;241;43m1\u001b[39;49m\u001b[43m]\u001b[49m \u001b[38;5;241m=\u001b[39m\u001b[38;5;124m\"\u001b[39m\u001b[38;5;124mhello\u001b[39m\u001b[38;5;124m\"\u001b[39m\n\u001b[0;32m      4\u001b[0m \u001b[38;5;28mprint\u001b[39m(numbers)\n",
      "\u001b[1;31mTypeError\u001b[0m: 'tuple' object does not support item assignment"
     ]
    }
   ],
   "source": [
    "print(numbers[1])\n",
    "\n",
    "numbers[1] =\"hello\"\n",
    "print(numbers)"
   ]
  },
  {
   "cell_type": "markdown",
   "id": "377f274f-ddbb-4415-86a2-8ef867e094bf",
   "metadata": {},
   "source": [
    "## Tuples Methods "
   ]
  },
  {
   "cell_type": "code",
   "execution_count": 16,
   "id": "fb37eac8-ef8f-46f7-9942-0e9694feade2",
   "metadata": {},
   "outputs": [
    {
     "name": "stdout",
     "output_type": "stream",
     "text": [
      "1\n",
      "2\n"
     ]
    }
   ],
   "source": [
    "print(numbers.count(1))\n",
    "print(numbers.index(3))"
   ]
  },
  {
   "cell_type": "markdown",
   "id": "879ef48a-2275-4fa2-bcb9-61edfe40a55b",
   "metadata": {},
   "source": [
    "## Paking and Unpacking Tuple "
   ]
  },
  {
   "cell_type": "code",
   "execution_count": 17,
   "id": "b03a1e8c-6509-472d-a0a0-866c94041c4c",
   "metadata": {},
   "outputs": [
    {
     "name": "stdout",
     "output_type": "stream",
     "text": [
      "(1, 'hello', 3.14)\n"
     ]
    }
   ],
   "source": [
    "packed_tuple= 1,\"hello\",3.14\n",
    "print(packed_tuple)\n"
   ]
  },
  {
   "cell_type": "code",
   "execution_count": 20,
   "id": "501ae31d-3dd3-40d2-847b-6a762e464101",
   "metadata": {},
   "outputs": [
    {
     "name": "stdout",
     "output_type": "stream",
     "text": [
      "1\n",
      "hello\n",
      "3.14\n"
     ]
    }
   ],
   "source": [
    "a,b,c =packed_tuple\n",
    "print(a)\n",
    "print(b)\n",
    "print(c)"
   ]
  },
  {
   "cell_type": "code",
   "execution_count": 22,
   "id": "67544cf7-373b-4492-a8a3-d2fb363464bc",
   "metadata": {},
   "outputs": [
    {
     "name": "stdout",
     "output_type": "stream",
     "text": [
      "1\n",
      "[2, 3, 4, 5, 6]\n",
      "7\n"
     ]
    }
   ],
   "source": [
    "## Unpacking with * \n",
    "numbers = (1,2,3,4,5,6,7)\n",
    "first,*middle,last =numbers\n",
    "print(first)\n",
    "print(middle)\n",
    "print(last)\n"
   ]
  },
  {
   "cell_type": "code",
   "execution_count": 26,
   "id": "bf4d6e2b-eae4-4db7-8051-d18109ba0d2f",
   "metadata": {},
   "outputs": [
    {
     "name": "stdout",
     "output_type": "stream",
     "text": [
      "3\n",
      "[1, 2, 3]\n",
      "[1, 2, 3, 4]\n"
     ]
    }
   ],
   "source": [
    "## Nexted Tuples \n",
    "lst = [[1,2,3,4],[6,7,8,9],[1,\"Hello World \",3.14]]\n",
    "print(lst[0][2])\n",
    "print(lst[0][0:3])\n",
    "print(lst[0][0:])"
   ]
  },
  {
   "cell_type": "code",
   "execution_count": 29,
   "id": "12cb716a-c548-4f54-980b-4af000959cbe",
   "metadata": {},
   "outputs": [
    {
     "name": "stdout",
     "output_type": "stream",
     "text": [
      "8\n",
      "[6, 7, 8]\n",
      "[6, 7, 8, 9]\n"
     ]
    }
   ],
   "source": [
    "print(lst[1][2])\n",
    "print(lst[1][0:3])\n",
    "print(lst[1][0:])"
   ]
  },
  {
   "cell_type": "code",
   "execution_count": 28,
   "id": "b88d8bb9-8db6-4427-8a76-a5f665c76357",
   "metadata": {},
   "outputs": [
    {
     "name": "stdout",
     "output_type": "stream",
     "text": [
      "3.14\n",
      "[1, 'Hello World ', 3.14]\n",
      "[1, 'Hello World ', 3.14]\n"
     ]
    }
   ],
   "source": [
    "print(lst[2][2])\n",
    "print(lst[2][0:3])\n",
    "print(lst[2][0:])"
   ]
  },
  {
   "cell_type": "code",
   "execution_count": 33,
   "id": "283afb23-aaaf-45c7-97f6-e3da8e9cd715",
   "metadata": {},
   "outputs": [
    {
     "name": "stdout",
     "output_type": "stream",
     "text": [
      "(1, 2, 3)\n",
      "c\n"
     ]
    }
   ],
   "source": [
    "nested_tuple= ((1,2,3),(\"a\",\"b\",\"c\"),(True,False))\n",
    "print(nested_tuple[0])\n",
    "print(nested_tuple[1][2]) # for geting c "
   ]
  },
  {
   "cell_type": "code",
   "execution_count": 37,
   "id": "39944863-29e0-4c77-9774-3f22b265a93e",
   "metadata": {},
   "outputs": [
    {
     "name": "stdout",
     "output_type": "stream",
     "text": [
      "1 2 3 \n",
      "a b c \n",
      "True False \n"
     ]
    }
   ],
   "source": [
    "for sub_tuple in nested_tuple:\n",
    "    for item in sub_tuple:\n",
    "        print(item,end=\" \")\n",
    "    print()"
   ]
  },
  {
   "cell_type": "markdown",
   "id": "6e959f94-53ec-40fa-9d97-87a72f0be09c",
   "metadata": {},
   "source": [
    "# Conclusion\n",
    "\n",
    "Tuples in Python are ordered, immutable collections of items. They are similar to lists, but once a tuple is created, its elements cannot be modified, added, or removed. This immutability makes tuples suitable for representing fixed collections of data, such as coordinates, database records, or configuration settings. Tuples are defined using parentheses () and elements are separated by commas. "
   ]
  },
  {
   "cell_type": "code",
   "execution_count": null,
   "id": "8c06c371-85f3-44da-82c9-45a3deba354c",
   "metadata": {},
   "outputs": [],
   "source": []
  }
 ],
 "metadata": {
  "kernelspec": {
   "display_name": "Python 3 (ipykernel)",
   "language": "python",
   "name": "python3"
  },
  "language_info": {
   "codemirror_mode": {
    "name": "ipython",
    "version": 3
   },
   "file_extension": ".py",
   "mimetype": "text/x-python",
   "name": "python",
   "nbconvert_exporter": "python",
   "pygments_lexer": "ipython3",
   "version": "3.12.4"
  }
 },
 "nbformat": 4,
 "nbformat_minor": 5
}
