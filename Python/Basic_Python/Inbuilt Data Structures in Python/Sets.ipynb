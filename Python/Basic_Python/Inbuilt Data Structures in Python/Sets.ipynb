{
 "cells": [
  {
   "cell_type": "markdown",
   "id": "5817127e-283b-4a85-a641-7c0e070d9acd",
   "metadata": {},
   "source": [
    "# Set"
   ]
  },
  {
   "cell_type": "code",
   "execution_count": 1,
   "id": "0ae3ec19-ad81-4d7f-9bd8-69e0ebaba54a",
   "metadata": {},
   "outputs": [
    {
     "name": "stdout",
     "output_type": "stream",
     "text": [
      "{1, 2, 3, 4, 5}\n",
      "<class 'set'>\n"
     ]
    }
   ],
   "source": [
    "my_set={1,2,3,4,5}\n",
    "print(my_set)\n",
    "print(type(my_set))"
   ]
  },
  {
   "cell_type": "code",
   "execution_count": 2,
   "id": "d8632ca6-bc8b-49b8-af0f-54093bbd8e28",
   "metadata": {},
   "outputs": [
    {
     "name": "stdout",
     "output_type": "stream",
     "text": [
      "{1, 2, 3, 4, 5, 7}\n",
      "{1, 2, 4, 5, 7}\n"
     ]
    }
   ],
   "source": [
    "# Basic sets Operation \n",
    "## Adding and Removing Elements \n",
    "\n",
    "my_set.add(7)\n",
    "print(my_set)\n",
    "\n",
    "\n",
    "## removing \n",
    "my_set.remove(3)\n",
    "print(my_set)"
   ]
  },
  {
   "cell_type": "code",
   "execution_count": 5,
   "id": "a57237c4-32ba-4d77-b00a-653011da78fc",
   "metadata": {},
   "outputs": [
    {
     "name": "stdout",
     "output_type": "stream",
     "text": [
      "{1, 2, 4, 5, 7}\n",
      "{1, 2, 4, 7}\n"
     ]
    }
   ],
   "source": [
    "## discard -> if the element is present it will discard ,otherwise it doesn't show any error\n",
    "\n",
    "my_set.discard(11) # it will not show any error\n",
    "print(my_set)\n",
    "\n",
    "my_set.discard(5)\n",
    "print(my_set)"
   ]
  },
  {
   "cell_type": "code",
   "execution_count": 6,
   "id": "1be69671-e624-49d9-ad22-e726b1b5596b",
   "metadata": {},
   "outputs": [
    {
     "name": "stdout",
     "output_type": "stream",
     "text": [
      "1\n",
      "{2, 4, 7}\n"
     ]
    }
   ],
   "source": [
    "# pop method \n",
    "removed_element = my_set.pop() # it will remove the first element \n",
    "print(removed_element) # {1, 2, 4, 7}\n",
    "print(my_set)"
   ]
  },
  {
   "cell_type": "code",
   "execution_count": 7,
   "id": "7e4aa9a2-3b80-47e9-b88a-a1e31b8c833e",
   "metadata": {},
   "outputs": [
    {
     "name": "stdout",
     "output_type": "stream",
     "text": [
      "set()\n"
     ]
    }
   ],
   "source": [
    "# clear all the elements \n",
    "my_set.clear()\n",
    "print(my_set)"
   ]
  },
  {
   "cell_type": "code",
   "execution_count": 9,
   "id": "90c68fa3-69d8-4aca-8d3b-56f3db316c9f",
   "metadata": {},
   "outputs": [
    {
     "name": "stdout",
     "output_type": "stream",
     "text": [
      "True\n",
      "False\n"
     ]
    }
   ],
   "source": [
    "## Set Membership set \n",
    "my_set ={1,2,3,4,5}\n",
    "print(3 in my_set)\n",
    "print(10 in my_set)"
   ]
  },
  {
   "cell_type": "code",
   "execution_count": 13,
   "id": "13ba0a95-a882-4e84-bf43-cc4609cf06a3",
   "metadata": {},
   "outputs": [
    {
     "name": "stdout",
     "output_type": "stream",
     "text": [
      "{1, 2, 3, 4, 5, 6, 7, 8, 9}\n",
      "{4, 5, 6}\n"
     ]
    }
   ],
   "source": [
    "# Mathematical Operation \n",
    "\n",
    "set1= {1,2,3,4,5,8,6}\n",
    "set2 = { 4,5,6,7,9}\n",
    "\n",
    "# Union \n",
    "union_set =set1.union(set2)\n",
    "print(union_set)\n",
    "\n",
    "# Intersection set \n",
    "intersection_Set = set1.intersection(set2)\n",
    "print(intersection_Set)\n"
   ]
  },
  {
   "cell_type": "code",
   "execution_count": 17,
   "id": "cb1f123c-51b6-4cb4-b69b-18116419abf5",
   "metadata": {},
   "outputs": [
    {
     "name": "stdout",
     "output_type": "stream",
     "text": [
      "{4, 5, 6}\n"
     ]
    }
   ],
   "source": [
    "set1.intersection_update(set2) \n",
    "            # the elements are common in both the sets are updated to set1 \n",
    "            # in set1 and set2 {4, 5, 6} are common \n",
    "\n",
    "print(set1) # Now the value of set1 = {4, 5, 6}"
   ]
  },
  {
   "cell_type": "code",
   "execution_count": 21,
   "id": "8fb0eaab-862c-4434-86f0-050c7175745b",
   "metadata": {},
   "outputs": [
    {
     "name": "stdout",
     "output_type": "stream",
     "text": [
      "{8, 1, 2, 3}\n",
      "{9, 7}\n"
     ]
    }
   ],
   "source": [
    "set1= {1,2,3,4,5,8,6} \n",
    "set2 = { 4,5,6,7,9}\n",
    "\n",
    "## Difference \n",
    "print(set1.difference(set2)) # it will show what all elements are miss in set2 (compare to set1)\n",
    "\n",
    "print(set2.difference(set1))"
   ]
  },
  {
   "cell_type": "code",
   "execution_count": 23,
   "id": "265e190b-26a3-4eaf-9cdd-e6e065ba5847",
   "metadata": {},
   "outputs": [
    {
     "name": "stdout",
     "output_type": "stream",
     "text": [
      "{1, 2, 3, 7, 8, 9}\n"
     ]
    }
   ],
   "source": [
    "# Symmetric difference \n",
    "\n",
    "print(set1.symmetric_difference(set2))\n"
   ]
  },
  {
   "cell_type": "code",
   "execution_count": 26,
   "id": "586ff636-6d60-45e2-b391-40c7eed9c0d6",
   "metadata": {},
   "outputs": [
    {
     "name": "stdout",
     "output_type": "stream",
     "text": [
      "False\n"
     ]
    },
    {
     "data": {
      "text/plain": [
       "\"\\n    NOTE \\n    Every set is a subset of itself \\n    Empty set is a subset of every set \\n    The total number of finite set containing 'n' elements  is 2^n \\n    \\n\""
      ]
     },
     "execution_count": 26,
     "metadata": {},
     "output_type": "execute_result"
    }
   ],
   "source": [
    "## Set Methods \n",
    "set1={1,2,3}\n",
    "set2 ={3,4,5}\n",
    "\n",
    "print(set1.issubset(set2))\n",
    "\n",
    "'''\n",
    "    NOTE \n",
    "    Every set is a subset of itself \n",
    "    Empty set is a subset of every set \n",
    "    The total number of finite set containing 'n' elements  is 2^n \n",
    "    \n",
    "'''"
   ]
  },
  {
   "cell_type": "code",
   "execution_count": 28,
   "id": "59b27807-5291-4f98-ba3b-c6a8e25eac51",
   "metadata": {},
   "outputs": [
    {
     "name": "stdout",
     "output_type": "stream",
     "text": [
      "False\n"
     ]
    }
   ],
   "source": [
    "# Superset \n",
    "print(set1.issuperset(set2))"
   ]
  },
  {
   "cell_type": "code",
   "execution_count": 29,
   "id": "00a352a3-990c-4dea-8058-672a4819b53d",
   "metadata": {},
   "outputs": [
    {
     "name": "stdout",
     "output_type": "stream",
     "text": [
      "{'the', 'behind', 'Master', 'Science,Machine', 'practice,and', 'projects', 'theory,', 'Learning,Deep', 'Learning,NLP', 'end', 'math', 'Data', 'with', 'to'}\n",
      "14\n"
     ]
    }
   ],
   "source": [
    "## Counting Unique words in text \n",
    "\n",
    "text = \"Master the theory, practice,and math behind Data Science,Machine Learning,Deep Learning,NLP with end to end projects\"\n",
    "words =text.split()\n",
    "\n",
    "## convert list of words to set to get unique words \n",
    "unique_words = set(words)\n",
    "print(unique_words)\n",
    "print(len(unique_words))"
   ]
  },
  {
   "cell_type": "code",
   "execution_count": null,
   "id": "b5167dae-bcb0-4669-bd31-169c3246a03a",
   "metadata": {},
   "outputs": [],
   "source": []
  }
 ],
 "metadata": {
  "kernelspec": {
   "display_name": "Python 3 (ipykernel)",
   "language": "python",
   "name": "python3"
  },
  "language_info": {
   "codemirror_mode": {
    "name": "ipython",
    "version": 3
   },
   "file_extension": ".py",
   "mimetype": "text/x-python",
   "name": "python",
   "nbconvert_exporter": "python",
   "pygments_lexer": "ipython3",
   "version": "3.12.4"
  }
 },
 "nbformat": 4,
 "nbformat_minor": 5
}
