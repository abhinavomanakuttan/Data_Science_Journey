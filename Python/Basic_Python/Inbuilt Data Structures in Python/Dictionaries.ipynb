{
 "cells": [
  {
   "cell_type": "code",
   "execution_count": 27,
   "id": "5a718bfb-efd5-4b06-b81d-eedd0a88347e",
   "metadata": {},
   "outputs": [
    {
     "name": "stdout",
     "output_type": "stream",
     "text": [
      "<class 'dict'>\n"
     ]
    }
   ],
   "source": [
    "empty_dis={}\n",
    "print(type(empty_dis))"
   ]
  },
  {
   "cell_type": "code",
   "execution_count": 28,
   "id": "d7efb1db-76cc-4439-8c70-647d181314ff",
   "metadata": {},
   "outputs": [
    {
     "name": "stdout",
     "output_type": "stream",
     "text": [
      "{'name': 'Abhinav', 'age': 21, 'GRADE': 'A'}\n"
     ]
    }
   ],
   "source": [
    "students ={ \"name\" : \"Abhinav\" , \"age\" :21 ,\"GRADE\": \"A\"}\n",
    "print(students)"
   ]
  },
  {
   "cell_type": "code",
   "execution_count": 29,
   "id": "6e7f6bab-845f-490e-91be-bf301fd3466c",
   "metadata": {},
   "outputs": [
    {
     "name": "stdout",
     "output_type": "stream",
     "text": [
      "A\n",
      "21\n"
     ]
    }
   ],
   "source": [
    "## Accessing Dictinory elements \n",
    "print(students['GRADE'])\n",
    "print(students['age'])"
   ]
  },
  {
   "cell_type": "code",
   "execution_count": 30,
   "id": "89308ca4-bfed-409e-bcc6-3315196edc78",
   "metadata": {},
   "outputs": [
    {
     "name": "stdout",
     "output_type": "stream",
     "text": [
      "A\n",
      "None\n",
      "Not_Available\n"
     ]
    }
   ],
   "source": [
    "## Accessing using get() method\n",
    "print(students.get('GRADE'))\n",
    "print(students.get('late_name'))\n",
    "print(students.get('late_name','Not_Available')) # "
   ]
  },
  {
   "cell_type": "code",
   "execution_count": 31,
   "id": "d322c474-5a61-4ac7-b6ec-bffe3f93abb9",
   "metadata": {},
   "outputs": [
    {
     "name": "stdout",
     "output_type": "stream",
     "text": [
      "{'name': 'Abhinav', 'age': 21, 'GRADE': 'A'}\n",
      "{'name': 'Abhinav', 'age': 20, 'GRADE': 'A'}\n",
      "{'name': 'Abhinav', 'age': 20, 'GRADE': 'A', 'address': 'India'}\n",
      "{'name': 'Abhinav', 'age': 20, 'address': 'India'}\n"
     ]
    }
   ],
   "source": [
    "# modifing dicitonary elements \n",
    "# add ,update ,delete elements \n",
    "\n",
    "print(students)\n",
    "students['age']= 20  ## Update value for the key  \n",
    "print(students)\n",
    "students['address']= 'India' # added new key and value pair\n",
    "print(students)\n",
    "\n",
    "del students[\"GRADE\"]\n",
    "print(students)"
   ]
  },
  {
   "cell_type": "code",
   "execution_count": 32,
   "id": "5d3d4a89-a46a-409f-a556-277f47b22a36",
   "metadata": {},
   "outputs": [
    {
     "name": "stdout",
     "output_type": "stream",
     "text": [
      "dict_keys(['name', 'age', 'address'])\n",
      "dict_values(['Abhinav', 20, 'India'])\n",
      "dict_items([('name', 'Abhinav'), ('age', 20), ('address', 'India')])\n"
     ]
    }
   ],
   "source": [
    "## \n",
    "keys= students.keys() # to get all the keys \n",
    "print(keys)\n",
    "values = students.values() # to get all the values \n",
    "print(values)\n",
    "\n",
    "items =students.items() # to get all key value pairs \n",
    "print(items)\n"
   ]
  },
  {
   "cell_type": "markdown",
   "id": "75f43fdb-5e02-4387-9998-5a9e89ec310f",
   "metadata": {},
   "source": [
    "# Shallow copy"
   ]
  },
  {
   "cell_type": "code",
   "execution_count": 33,
   "id": "67fdb286-529e-46b8-a124-09c644da80d4",
   "metadata": {},
   "outputs": [
    {
     "name": "stdout",
     "output_type": "stream",
     "text": [
      "{'name': 'Abhinav', 'age': 20, 'address': 'India'}\n",
      "{'name': 'Abhinav', 'age': 20, 'address': 'India'}\n"
     ]
    }
   ],
   "source": [
    "## impr \n",
    "student_copy = students\n",
    "print(students)\n",
    "print(student_copy)"
   ]
  },
  {
   "cell_type": "code",
   "execution_count": 34,
   "id": "78c6d811-8146-499c-8587-bf9fa0817817",
   "metadata": {},
   "outputs": [
    {
     "name": "stdout",
     "output_type": "stream",
     "text": [
      "{'name': ' Rahul', 'age': 20, 'address': 'India'}\n",
      "{'name': ' Rahul', 'age': 20, 'address': 'India'}\n"
     ]
    }
   ],
   "source": [
    "students['name'] =\" Rahul\"\n",
    "print(students)\n",
    "print(student_copy) # it will automatically update the value "
   ]
  },
  {
   "cell_type": "code",
   "execution_count": 35,
   "id": "b0c64e9a-8e55-4689-88c7-de6ad73e2c4e",
   "metadata": {},
   "outputs": [
    {
     "name": "stdout",
     "output_type": "stream",
     "text": [
      "{'name': ' Rahul', 'age': 20, 'address': 'India'}\n",
      "{'name': ' Rahul', 'age': 20, 'address': 'India'}\n",
      "\n",
      "{'name': ' Rahul', 'age': 20, 'address': 'India'}\n",
      "{'name': 'Shyam', 'age': 20, 'address': 'India'}\n"
     ]
    }
   ],
   "source": [
    "student_copy1 = students.copy() # shallow copy \n",
    "print(student_copy1)\n",
    "print(students)\n",
    "print()\n",
    "students['name'] =\"Shyam\"\n",
    "print(student_copy1)\n",
    "print(students)"
   ]
  },
  {
   "cell_type": "code",
   "execution_count": 42,
   "id": "d0652559-ea06-43c9-a668-12e028d680f7",
   "metadata": {},
   "outputs": [
    {
     "name": "stdout",
     "output_type": "stream",
     "text": [
      "name\n",
      "age\n",
      "address\n"
     ]
    }
   ],
   "source": [
    "## Iterating Over Dictionaries\n",
    "#  can use loops to iterate over keys ,values or items \n",
    "\n",
    "## Iterate over key   \n",
    "for keys in students.keys():\n",
    "    print(keys)\n",
    "\n"
   ]
  },
  {
   "cell_type": "code",
   "execution_count": 43,
   "id": "9ba7e46c-eaf8-477d-9980-30fb109130f1",
   "metadata": {},
   "outputs": [
    {
     "name": "stdout",
     "output_type": "stream",
     "text": [
      "Shyam\n",
      "20\n",
      "India\n"
     ]
    }
   ],
   "source": [
    "## Iterate over  value   \n",
    "for values in students.values():\n",
    "    print(values)"
   ]
  },
  {
   "cell_type": "code",
   "execution_count": 46,
   "id": "32215268-3fdf-4277-8a58-34738f16a02c",
   "metadata": {},
   "outputs": [
    {
     "name": "stdout",
     "output_type": "stream",
     "text": [
      "name:Shyam\n",
      "age:20\n",
      "address:India\n"
     ]
    }
   ],
   "source": [
    "## Iterate over key value pairs \n",
    "for key ,value in students.items():\n",
    "    print(f\"{key}:{value}\")\n"
   ]
  },
  {
   "cell_type": "markdown",
   "id": "33436884-1c8f-4f30-9c1c-05df51daa7be",
   "metadata": {},
   "source": [
    "## Nested Disctionaries"
   ]
  },
  {
   "cell_type": "code",
   "execution_count": 49,
   "id": "82c16bba-6ce8-429f-829b-47fb20464773",
   "metadata": {},
   "outputs": [
    {
     "name": "stdout",
     "output_type": "stream",
     "text": [
      "{'student1': {'name': 'Abhinav', 'age': 21}, 'student2': {'name': 'Rahul', 'age': 21}, 'student3': {'name': 'Abhinav', 'age': 21}}\n"
     ]
    }
   ],
   "source": [
    "students_dt ={\n",
    "    \"student1\" :{\"name\": \"Abhinav\" ,\"age\":21 } ,\n",
    "     \"student2\" :{\"name\": \"Rahul\" ,\"age\":21 },\n",
    "     \"student3\" :{\"name\": \"Abhinav\" ,\"age\":21 } \n",
    "}\n",
    "print(students_dt)"
   ]
  },
  {
   "cell_type": "code",
   "execution_count": 53,
   "id": "d6e2cffe-17b8-4d29-b1dc-bbdc34dfdf69",
   "metadata": {},
   "outputs": [
    {
     "name": "stdout",
     "output_type": "stream",
     "text": [
      "Abhinav\n",
      "21\n"
     ]
    }
   ],
   "source": [
    "# Access nested disctionaries elements \n",
    "\n",
    "print(students_dt[\"student1\"][\"name\"])\n",
    "print(students_dt[\"student1\"][\"age\"])\n"
   ]
  },
  {
   "cell_type": "code",
   "execution_count": 54,
   "id": "e17928ed-9538-4ac7-8447-3f409f48cd26",
   "metadata": {},
   "outputs": [
    {
     "name": "stdout",
     "output_type": "stream",
     "text": [
      "dict_items([('student1', {'name': 'Abhinav', 'age': 21}), ('student2', {'name': 'Rahul', 'age': 21}), ('student3', {'name': 'Abhinav', 'age': 21})])\n"
     ]
    }
   ],
   "source": [
    "print(students_dt.items())"
   ]
  },
  {
   "cell_type": "code",
   "execution_count": 55,
   "id": "e85b9293-529b-4002-ac95-ddc6f3917de5",
   "metadata": {},
   "outputs": [
    {
     "name": "stdout",
     "output_type": "stream",
     "text": [
      "student1 : {'name': 'Abhinav', 'age': 21} \n",
      "student2 : {'name': 'Rahul', 'age': 21} \n",
      "student3 : {'name': 'Abhinav', 'age': 21} \n"
     ]
    }
   ],
   "source": [
    "# Iterating over nested disctionaries \n",
    "\n",
    "for students_id ,student_info in students_dt.items():\n",
    "    print(f\"{students_id} : {student_info} \")"
   ]
  },
  {
   "cell_type": "code",
   "execution_count": 63,
   "id": "243d2d22-a247-4d52-a8df-2dbe72226734",
   "metadata": {},
   "outputs": [
    {
     "name": "stdout",
     "output_type": "stream",
     "text": [
      "name : Abhinav\n",
      "age : 21\n",
      "name : Rahul\n",
      "age : 21\n",
      "name : Abhinav\n",
      "age : 21\n"
     ]
    }
   ],
   "source": [
    "for students_id ,student_info in students_dt.items():\n",
    "    for key ,value in student_info.items():\n",
    "        print(f\"{key} : {value}\")\n",
    "        \n",
    "       "
   ]
  },
  {
   "cell_type": "code",
   "execution_count": 66,
   "id": "98de189c-575b-4957-b75d-890bb9bd7782",
   "metadata": {},
   "outputs": [
    {
     "name": "stdout",
     "output_type": "stream",
     "text": [
      "{0: 0, 1: 1, 2: 4, 3: 9, 4: 16}\n"
     ]
    }
   ],
   "source": [
    "# Dictionary compherehension \n",
    "squares ={x:x**2 for x in range(5) } #  x: x**2 -> key:value pair \n",
    "print(squares)"
   ]
  },
  {
   "cell_type": "code",
   "execution_count": 68,
   "id": "ee7ab99b-b5d4-4861-96e0-a0d5d42a64a1",
   "metadata": {},
   "outputs": [
    {
     "name": "stdout",
     "output_type": "stream",
     "text": [
      "{0: 0, 2: 4, 4: 16, 6: 36, 8: 64}\n"
     ]
    }
   ],
   "source": [
    "# condition disctionary comprehension\n",
    "evens ={ x:x**2 for x in range(10)  if x % 2 ==0}\n",
    "print(evens)"
   ]
  },
  {
   "cell_type": "code",
   "execution_count": 75,
   "id": "ba00bb30-0c95-4a0f-9c5d-4eb399f747e4",
   "metadata": {},
   "outputs": [
    {
     "name": "stdout",
     "output_type": "stream",
     "text": [
      "{1: 1, 2: 3, 3: 4, 4: 5}\n"
     ]
    }
   ],
   "source": [
    "# practical example \n",
    "# use a dictionary to count the frequency of elements in list\n",
    "\n",
    "numbers = [1,2,3,3,3,3,2,2,4,4,4,4,4]\n",
    "frequency={}\n",
    "for num in numbers:\n",
    "    if num in frequency:   # If the number is already in the dictionary, increment its count by 1\n",
    "        frequency[num] +=1\n",
    "    else:                 # If the number is not in the dictionary, add it with a count of 1\n",
    "        frequency[num]=1\n",
    "print(frequency)"
   ]
  },
  {
   "cell_type": "code",
   "execution_count": 77,
   "id": "abc0cb07-2af8-4180-a0f7-4021e7c59f22",
   "metadata": {},
   "outputs": [
    {
     "name": "stdout",
     "output_type": "stream",
     "text": [
      "{'a': 1, 'b': 2, 'c': 3, 'd': 4}\n",
      "{'a': 1, 'b': 2, 'c': 3, 'd': 4}\n"
     ]
    }
   ],
   "source": [
    "## Merge 2 disctionaries into one \n",
    "\n",
    "dict1 = {'a': 1, 'b': 2}\n",
    "dict2 = {'c': 3, 'd': 4}\n",
    "\n",
    "merged_dict = dict1 | dict2\n",
    "\n",
    "merged ={**dict1,**dict2}\n",
    "\n",
    "print(merged_dict)\n",
    "print(merged)"
   ]
  },
  {
   "cell_type": "code",
   "execution_count": 78,
   "id": "043d3fbe-d216-4676-980a-023ad1c4056d",
   "metadata": {},
   "outputs": [
    {
     "name": "stdout",
     "output_type": "stream",
     "text": [
      "{'a': 1, 'b': 3, 'd': 4}\n"
     ]
    }
   ],
   "source": [
    "dict1 = {'a': 1, 'b': 2}\n",
    "dict2 = {'b': 3, 'd': 4}\n",
    "\n",
    "merged ={**dict1,**dict2}\n",
    "print(merged)"
   ]
  },
  {
   "cell_type": "code",
   "execution_count": null,
   "id": "6114626d-f5c7-4d25-abba-c170006e116a",
   "metadata": {},
   "outputs": [],
   "source": []
  }
 ],
 "metadata": {
  "kernelspec": {
   "display_name": "Python 3 (ipykernel)",
   "language": "python",
   "name": "python3"
  },
  "language_info": {
   "codemirror_mode": {
    "name": "ipython",
    "version": 3
   },
   "file_extension": ".py",
   "mimetype": "text/x-python",
   "name": "python",
   "nbconvert_exporter": "python",
   "pygments_lexer": "ipython3",
   "version": "3.12.4"
  }
 },
 "nbformat": 4,
 "nbformat_minor": 5
}
